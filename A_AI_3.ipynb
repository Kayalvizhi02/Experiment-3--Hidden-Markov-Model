{
  "nbformat": 4,
  "nbformat_minor": 0,
  "metadata": {
    "colab": {
      "provenance": []
    },
    "kernelspec": {
      "name": "python3",
      "display_name": "Python 3"
    },
    "language_info": {
      "name": "python"
    }
  },
  "cells": [
    {
      "cell_type": "code",
      "execution_count": 1,
      "metadata": {
        "id": "Pn3ZIateAWYP"
      },
      "outputs": [],
      "source": [
        "import numpy as np"
      ]
    },
    {
      "cell_type": "code",
      "source": [
        "transition_matrix = np.array([[0.7,0.3],[0.4,0.6]])"
      ],
      "metadata": {
        "id": "cGoGbL-QAiPd"
      },
      "execution_count": 2,
      "outputs": []
    },
    {
      "cell_type": "code",
      "source": [
        "emission_matrix = np.array([[0.1,0.9],[0.8,0.2]])"
      ],
      "metadata": {
        "id": "Mti5OcRxArC7"
      },
      "execution_count": 3,
      "outputs": []
    },
    {
      "cell_type": "code",
      "source": [
        "initial_probabilities = np.array([0.5,0.5])"
      ],
      "metadata": {
        "id": "Jak6QX8DAykr"
      },
      "execution_count": 4,
      "outputs": []
    },
    {
      "cell_type": "code",
      "source": [
        "observed_sequence = np.array([1,1,1,0,0,1])"
      ],
      "metadata": {
        "id": "mFcEL5yTA67V"
      },
      "execution_count": 5,
      "outputs": []
    },
    {
      "cell_type": "code",
      "source": [
        "alpha = np.zeros((len(observed_sequence),len(initial_probabilities)))"
      ],
      "metadata": {
        "id": "JMqsRiuYBDBd"
      },
      "execution_count": 6,
      "outputs": []
    },
    {
      "cell_type": "code",
      "source": [
        "alpha[0, :] = initial_probabilities * emission_matrix[:, observed_sequence[0]]"
      ],
      "metadata": {
        "id": "zrnrfGd-BWwl"
      },
      "execution_count": 7,
      "outputs": []
    },
    {
      "cell_type": "code",
      "source": [
        "for t in range(1, len(observed_sequence)):\n",
        "  for j in range(len(initial_probabilities)):\n",
        "    alpha[t,j] = emission_matrix[j,observed_sequence[t]] * np.sum(alpha[t-1, :] * transition_matrix[:,j])"
      ],
      "metadata": {
        "id": "A2-S_3vOCpTk"
      },
      "execution_count": 8,
      "outputs": []
    },
    {
      "cell_type": "code",
      "source": [
        "probability = np.sum(alpha[-1, :])"
      ],
      "metadata": {
        "id": "m7GQyBjtEkVc"
      },
      "execution_count": 9,
      "outputs": []
    },
    {
      "cell_type": "code",
      "source": [
        "print(\"The probability of te observed sequence is:\", probability)"
      ],
      "metadata": {
        "colab": {
          "base_uri": "https://localhost:8080/"
        },
        "id": "EA28SQzyEtNY",
        "outputId": "4f7605c0-5aa8-48a3-d8d4-396181f6bc92"
      },
      "execution_count": 10,
      "outputs": [
        {
          "output_type": "stream",
          "name": "stdout",
          "text": [
            "The probability of te observed sequence is: 0.018906881625\n"
          ]
        }
      ]
    },
    {
      "cell_type": "code",
      "source": [
        "most_likely_sequence = []\n",
        "for t in range(len(observed_sequence)):\n",
        "  if alpha[t,0] > alpha[t,1]:\n",
        "    most_likely_sequence.append(\"sunny\")\n",
        "  else:\n",
        "    most_likely_sequence.append(\"rainy\")"
      ],
      "metadata": {
        "id": "TWXbEEVlE1A9"
      },
      "execution_count": 11,
      "outputs": []
    },
    {
      "cell_type": "code",
      "source": [
        "print(\"The most likely sequence of weather states is:\", most_likely_sequence)"
      ],
      "metadata": {
        "colab": {
          "base_uri": "https://localhost:8080/"
        },
        "id": "fteru0r-FlY7",
        "outputId": "6a5e380a-fc66-458e-c2a5-1d6d34c4e1b7"
      },
      "execution_count": 12,
      "outputs": [
        {
          "output_type": "stream",
          "name": "stdout",
          "text": [
            "The most likely sequence of weather states is: ['sunny', 'sunny', 'sunny', 'rainy', 'rainy', 'sunny']\n"
          ]
        }
      ]
    },
    {
      "cell_type": "code",
      "source": [],
      "metadata": {
        "id": "YIBX2HLeFvgw"
      },
      "execution_count": null,
      "outputs": []
    }
  ]
}